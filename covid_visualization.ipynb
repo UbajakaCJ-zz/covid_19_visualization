{
 "cells": [
  {
   "cell_type": "markdown",
   "metadata": {},
   "source": [
    "# Coronavirus (COVID-19) Visualization In Animated Bar Chart."
   ]
  },
  {
   "cell_type": "markdown",
   "metadata": {},
   "source": [
    "With the gradual easing of the lockdown in most countries, we might take a look at how the __COVID-19 (Coronavirus)__ has affected the top ten countries in animated visualization, from the inception to the __9th of June 2020__. This will help us better appreciate the effects of the virus. Visualization helps us to judge with heightened perception, to grasp the nature and value of these datasets which would remain bland and uninteresting without it. And hopefully, to increase our preventive measures towards the virus."
   ]
  },
  {
   "cell_type": "markdown",
   "metadata": {},
   "source": [
    "This dataset is gotten from Kaggle, the Data Science platform and we are considering the __confirmed__, __recovered__ and __death__ cases."
   ]
  },
  {
   "cell_type": "code",
   "execution_count": 196,
   "metadata": {},
   "outputs": [],
   "source": [
    "import pandas as pd\n",
    "import numpy as np\n",
    "from IPython.core.display import HTML"
   ]
  },
  {
   "cell_type": "code",
   "execution_count": 197,
   "metadata": {},
   "outputs": [],
   "source": [
    "confirmed_raw = pd.read_csv('time_series_covid_19_confirmed.csv')\n",
    "deaths_raw = pd.read_csv('time_series_covid_19_deaths.csv')\n",
    "recovered_raw = pd.read_csv('time_series_covid_19_recovered.csv')"
   ]
  },
  {
   "cell_type": "markdown",
   "metadata": {},
   "source": [
    "I created the two functions, __country_modified__ and __country_frames__, to wrangle the datasets in order to make it easily consumed by __flourish studio__, a data visualization platform.\n",
    "\n",
    "\n",
    "So, in the first function, __country_modified__, the columns - 'Province/State', 'Lat' and 'Long' -  are dropped because they are not necessary for this simple visualization. Next, countries that have several provinces/states are lumped and summed up\n",
    "\n",
    "In the second function, __country_frames__, looping across the set of countries and running the __country_modified__ function for each country, we get a new dataframe for each country which is then appended to the list, __frames__. These datasets are eventually concatenated to have a joined and complete dataframe for all the countries in the set\n",
    "\n",
    "\n",
    "These results are the new datasets, each for the __confirmed__, __recovered__, and __death__ cases which are then uploaded to the __flourish__ platform for visualization.\n",
    "\n",
    "To have the visualization displayed in my notebook, I use the HTML class from __IPython.core.display__ package"
   ]
  },
  {
   "cell_type": "code",
   "execution_count": 207,
   "metadata": {},
   "outputs": [],
   "source": [
    "def country_modified(data, country_str):\n",
    "    data = data.drop(['Province/State', 'Lat', 'Long'], axis=1)\n",
    "    data_country = data[data['Country/Region'].isin([country_str])]\n",
    "    country = pd.DataFrame(data_country.sum(numeric_only=None)).T\n",
    "    country['Country/Region'] = country_str\n",
    "    return country"
   ]
  },
  {
   "cell_type": "code",
   "execution_count": 208,
   "metadata": {},
   "outputs": [],
   "source": [
    "def country_frames(data):\n",
    "    frames = []\n",
    "    for i in set(data['Country/Region']):\n",
    "        frames.append(country_modified(data,i))   \n",
    "    new_data = pd.concat(frames, ignore_index=True)\n",
    "    return new_data"
   ]
  },
  {
   "cell_type": "code",
   "execution_count": 209,
   "metadata": {},
   "outputs": [],
   "source": [
    "new_confirmed = country_frames(confirmed_raw)\n",
    "new_recovered = country_frames(recovered_raw)\n",
    "new_deaths = country_frames(deaths_raw)"
   ]
  },
  {
   "cell_type": "code",
   "execution_count": 210,
   "metadata": {},
   "outputs": [],
   "source": [
    "new_confirmed.to_csv('new_confirmed.csv', index=False)\n",
    "new_recovered.to_csv('new_recovered.csv', index=False)\n",
    "new_deaths.to_csv('new_deaths.csv', index=False)"
   ]
  },
  {
   "cell_type": "markdown",
   "metadata": {},
   "source": [
    "### confirmed cases"
   ]
  },
  {
   "cell_type": "code",
   "execution_count": 211,
   "metadata": {},
   "outputs": [
    {
     "data": {
      "text/html": [
       "<div class=\"flourish-embed flourish-bar-chart-race\" data-src=\"visualisation/2775996\" data-url=\"https://flo.uri.sh/visualisation/2775996/embed\"><script src=\"https://public.flourish.studio/resources/embed.js\"></script></div>"
      ],
      "text/plain": [
       "<IPython.core.display.HTML object>"
      ]
     },
     "execution_count": 211,
     "metadata": {},
     "output_type": "execute_result"
    }
   ],
   "source": [
    "HTML('''<div class=\"flourish-embed flourish-bar-chart-race\" data-src=\"visualisation/2775996\" data-url=\"https://flo.uri.sh/visualisation/2775996/embed\"><script src=\"https://public.flourish.studio/resources/embed.js\"></script></div>''')"
   ]
  },
  {
   "cell_type": "markdown",
   "metadata": {},
   "source": [
    "### recovered cases"
   ]
  },
  {
   "cell_type": "code",
   "execution_count": 212,
   "metadata": {},
   "outputs": [
    {
     "data": {
      "text/html": [
       "<div class=\"flourish-embed flourish-bar-chart-race\" data-src=\"visualisation/2779946\" data-url=\"https://flo.uri.sh/visualisation/2779946/embed\"><script src=\"https://public.flourish.studio/resources/embed.js\"></script></div>"
      ],
      "text/plain": [
       "<IPython.core.display.HTML object>"
      ]
     },
     "execution_count": 212,
     "metadata": {},
     "output_type": "execute_result"
    }
   ],
   "source": [
    "HTML('''<div class=\"flourish-embed flourish-bar-chart-race\" data-src=\"visualisation/2779946\" data-url=\"https://flo.uri.sh/visualisation/2779946/embed\"><script src=\"https://public.flourish.studio/resources/embed.js\"></script></div>''')"
   ]
  },
  {
   "cell_type": "markdown",
   "metadata": {},
   "source": [
    "### death cases"
   ]
  },
  {
   "cell_type": "code",
   "execution_count": 213,
   "metadata": {},
   "outputs": [
    {
     "data": {
      "text/html": [
       "<div class=\"flourish-embed flourish-bar-chart-race\" data-src=\"visualisation/2780408\" data-url=\"https://flo.uri.sh/visualisation/2780408/embed\"><script src=\"https://public.flourish.studio/resources/embed.js\"></script></div>"
      ],
      "text/plain": [
       "<IPython.core.display.HTML object>"
      ]
     },
     "execution_count": 213,
     "metadata": {},
     "output_type": "execute_result"
    }
   ],
   "source": [
    "HTML('''<div class=\"flourish-embed flourish-bar-chart-race\" data-src=\"visualisation/2780408\" data-url=\"https://flo.uri.sh/visualisation/2780408/embed\"><script src=\"https://public.flourish.studio/resources/embed.js\"></script></div>''')"
   ]
  },
  {
   "cell_type": "markdown",
   "metadata": {},
   "source": [
    "## An Observation"
   ]
  },
  {
   "cell_type": "markdown",
   "metadata": {},
   "source": [
    "It seems that the effect of the coronavirus is moving away from the developed countries to the developing countries. We have seen the rise of __Brazil__, a South American country to become the __second__ most affected country. __India__, an Asian country is also rising rapidly to become the __fifth__ most affected country. And we have seen a trail of South American countries - __Peru, Chile__ and __Mexico__ in the list of most affected countries.\n",
    "\n",
    "While there is the easing of the lockdown, we should still be very cautious, the virus is still here and there are death tolls.\n",
    "\n",
    "There is the Igbo saying, _'Nkwucha aburo Ujo'_ , which is literally translated as _'Precaution is not Fear'_ , or loosely translated as _'Prevention is better than Cure'_ .\n",
    "\n",
    "You can still continue to work remotely if your job does not require physical presence. Wash your hands regularly. Use facemask. Sanitize.\n",
    "\n",
    "Together we will flatten the curve and overcome COVID-19"
   ]
  },
  {
   "cell_type": "code",
   "execution_count": null,
   "metadata": {},
   "outputs": [],
   "source": []
  }
 ],
 "metadata": {
  "kernelspec": {
   "display_name": "Python 3",
   "language": "python",
   "name": "python3"
  },
  "language_info": {
   "codemirror_mode": {
    "name": "ipython",
    "version": 3
   },
   "file_extension": ".py",
   "mimetype": "text/x-python",
   "name": "python",
   "nbconvert_exporter": "python",
   "pygments_lexer": "ipython3",
   "version": "3.7.6"
  }
 },
 "nbformat": 4,
 "nbformat_minor": 4
}
